{
 "cells": [
  {
   "cell_type": "markdown",
   "metadata": {},
   "source": [
    "# Simple Autoencoder for MNIST (with GPU implementation)"
   ]
  },
  {
   "cell_type": "markdown",
   "metadata": {},
   "source": [
    "### Import necessary libraries"
   ]
  },
  {
   "cell_type": "code",
   "execution_count": 1,
   "metadata": {},
   "outputs": [],
   "source": [
    "import os #will be used for creating directories, etc.\n",
    "\n",
    "import torch\n",
    "import torchvision.datasets as dsets             #for downloading dataset\n",
    "import torchvision.transforms as transforms      #for transforming dataset into tensors\n",
    "\n",
    "from torch import nn\n",
    "import torchvision\n",
    "\n",
    "from torch.autograd import Variable\n",
    "\n",
    "from time import time"
   ]
  },
  {
   "cell_type": "markdown",
   "metadata": {},
   "source": [
    "### Prepare MNIST dataset"
   ]
  },
  {
   "cell_type": "code",
   "execution_count": 2,
   "metadata": {},
   "outputs": [],
   "source": [
    "#download MNIST dataset\n",
    "dataset = dsets.MNIST(root='../data', train=True, transform=transforms.ToTensor(), download=True)"
   ]
  },
  {
   "cell_type": "markdown",
   "metadata": {},
   "source": [
    "### Utility functions"
   ]
  },
  {
   "cell_type": "code",
   "execution_count": 3,
   "metadata": {},
   "outputs": [],
   "source": [
    "def to_var(x):\n",
    "    if torch.cuda.is_available():\n",
    "        x = x.cuda()\n",
    "    return Variable(x)"
   ]
  },
  {
   "cell_type": "markdown",
   "metadata": {},
   "source": [
    "### Training parameters"
   ]
  },
  {
   "cell_type": "code",
   "execution_count": 4,
   "metadata": {},
   "outputs": [],
   "source": [
    "batch_size = 100\n",
    "num_epochs = 50\n",
    "\n",
    "# shuffle and prepare dataset with minibatches\n",
    "data_loader = torch.utils.data.DataLoader(dataset=dataset, batch_size=batch_size, shuffle=True)"
   ]
  },
  {
   "cell_type": "markdown",
   "metadata": {},
   "source": [
    "### Create Autoencoder NN"
   ]
  },
  {
   "cell_type": "code",
   "execution_count": 5,
   "metadata": {},
   "outputs": [],
   "source": [
    "class Autoencoder(nn.Module):\n",
    "    def __init__(self, in_dim=784, h_dim=100):\n",
    "        super(Autoencoder, self).__init__()\n",
    "        \n",
    "        self.encoder = nn.Sequential(\n",
    "            nn.Linear(in_dim, h_dim),\n",
    "            nn.ReLU()\n",
    "        )\n",
    "        \n",
    "        self.decoder = nn.Sequential(\n",
    "            nn.Linear(h_dim, in_dim),\n",
    "            nn.Sigmoid()\n",
    "        )\n",
    "        \n",
    "    def forward(self, x):\n",
    "        out = self.encoder(x)\n",
    "        out = self.decoder(out)\n",
    "        return out"
   ]
  },
  {
   "cell_type": "code",
   "execution_count": 6,
   "metadata": {},
   "outputs": [],
   "source": [
    "hidden_size = 30     #size of the bottleneck layer\n",
    "\n",
    "# Create Autoencoder model\n",
    "ae = Autoencoder(in_dim=784, h_dim=hidden_size)\n",
    "\n",
    "if torch.cuda.is_available():\n",
    "    ae.cuda()"
   ]
  },
  {
   "cell_type": "markdown",
   "metadata": {},
   "source": [
    "### Optimizer and loss function"
   ]
  },
  {
   "cell_type": "code",
   "execution_count": 7,
   "metadata": {},
   "outputs": [],
   "source": [
    "criterion = nn.BCELoss()     #Binary cross-entropy loss for each pixel\n",
    "optimizer = torch.optim.Adam(ae.parameters(), lr=0.001)"
   ]
  },
  {
   "cell_type": "markdown",
   "metadata": {},
   "source": [
    "### Let's train!!"
   ]
  },
  {
   "cell_type": "code",
   "execution_count": 8,
   "metadata": {},
   "outputs": [],
   "source": [
    "# We want to go through all the examples in each epoch, so number of iterations per epoch\n",
    "iter_per_epoch = len(data_loader)\n",
    "data_iter      = iter(data_loader) # data_iter is an iterator object"
   ]
  },
  {
   "cell_type": "markdown",
   "metadata": {},
   "source": [
    "#### Now we want to view and save results on a fixed batch to visualize Autoencoder's performance"
   ]
  },
  {
   "cell_type": "code",
   "execution_count": 9,
   "metadata": {},
   "outputs": [
    {
     "name": "stdout",
     "output_type": "stream",
     "text": [
      "torch.Size([100])\n",
      "torch.Size([100, 784])\n"
     ]
    }
   ],
   "source": [
    "# save fixed inputs for debugging\n",
    "fixed_x, labels = next(data_iter)        #points to the first batch\n",
    "torchvision.utils.save_image(Variable(fixed_x).data.cpu(), './data/real_images.png')\n",
    "print(labels.size())\n",
    "\n",
    "fixed_x = to_var(fixed_x.view(fixed_x.size(0), -1))\n",
    "print(fixed_x.size())"
   ]
  },
  {
   "cell_type": "code",
   "execution_count": 11,
   "metadata": {},
   "outputs": [
    {
     "name": "stdout",
     "output_type": "stream",
     "text": [
      "<built-in method type of Tensor object at 0x0000029C055CDEE8>\n"
     ]
    }
   ],
   "source": []
  },
  {
   "cell_type": "markdown",
   "metadata": {},
   "source": [
    "### Begin training"
   ]
  },
  {
   "cell_type": "code",
   "execution_count": 10,
   "metadata": {},
   "outputs": [
    {
     "name": "stderr",
     "output_type": "stream",
     "text": [
      "C:\\Users\\mayan\\Anaconda3\\lib\\site-packages\\ipykernel_launcher.py:17: UserWarning: invalid index of a 0-dim tensor. This will be an error in PyTorch 0.5. Use tensor.item() to convert a 0-dim tensor to a Python number\n"
     ]
    },
    {
     "name": "stdout",
     "output_type": "stream",
     "text": [
      "Epoch [1/50], Iter [100/600] Loss: 0.2738 Time: 2.25s\n",
      "Epoch [1/50], Iter [200/600] Loss: 0.2343 Time: 3.28s\n",
      "Epoch [1/50], Iter [300/600] Loss: 0.2123 Time: 4.34s\n",
      "Epoch [1/50], Iter [400/600] Loss: 0.1892 Time: 5.35s\n",
      "Epoch [1/50], Iter [500/600] Loss: 0.1906 Time: 6.36s\n",
      "Epoch [1/50], Iter [600/600] Loss: 0.1729 Time: 7.37s\n",
      "Epoch [2/50], Iter [100/600] Loss: 0.1698 Time: 1.06s\n",
      "Epoch [2/50], Iter [200/600] Loss: 0.1706 Time: 2.09s\n",
      "Epoch [2/50], Iter [300/600] Loss: 0.1453 Time: 3.12s\n",
      "Epoch [2/50], Iter [400/600] Loss: 0.1618 Time: 4.19s\n",
      "Epoch [2/50], Iter [500/600] Loss: 0.1427 Time: 5.26s\n",
      "Epoch [2/50], Iter [600/600] Loss: 0.1412 Time: 6.33s\n",
      "Epoch [3/50], Iter [100/600] Loss: 0.1445 Time: 1.08s\n",
      "Epoch [3/50], Iter [200/600] Loss: 0.1522 Time: 2.18s\n",
      "Epoch [3/50], Iter [300/600] Loss: 0.1303 Time: 3.23s\n",
      "Epoch [3/50], Iter [400/600] Loss: 0.1376 Time: 4.28s\n",
      "Epoch [3/50], Iter [500/600] Loss: 0.1373 Time: 5.35s\n",
      "Epoch [3/50], Iter [600/600] Loss: 0.1367 Time: 6.37s\n",
      "Epoch [4/50], Iter [100/600] Loss: 0.1328 Time: 1.04s\n",
      "Epoch [4/50], Iter [200/600] Loss: 0.1340 Time: 2.07s\n",
      "Epoch [4/50], Iter [300/600] Loss: 0.1263 Time: 3.20s\n",
      "Epoch [4/50], Iter [400/600] Loss: 0.1351 Time: 4.49s\n",
      "Epoch [4/50], Iter [500/600] Loss: 0.1343 Time: 5.55s\n",
      "Epoch [4/50], Iter [600/600] Loss: 0.1298 Time: 6.72s\n",
      "Epoch [5/50], Iter [100/600] Loss: 0.1317 Time: 1.11s\n",
      "Epoch [5/50], Iter [200/600] Loss: 0.1241 Time: 2.15s\n",
      "Epoch [5/50], Iter [300/600] Loss: 0.1281 Time: 3.19s\n",
      "Epoch [5/50], Iter [400/600] Loss: 0.1214 Time: 4.24s\n",
      "Epoch [5/50], Iter [500/600] Loss: 0.1225 Time: 5.35s\n",
      "Epoch [5/50], Iter [600/600] Loss: 0.1261 Time: 6.37s\n",
      "Epoch [6/50], Iter [100/600] Loss: 0.1266 Time: 1.07s\n",
      "Epoch [6/50], Iter [200/600] Loss: 0.1261 Time: 2.11s\n",
      "Epoch [6/50], Iter [300/600] Loss: 0.1284 Time: 3.18s\n",
      "Epoch [6/50], Iter [400/600] Loss: 0.1279 Time: 4.24s\n",
      "Epoch [6/50], Iter [500/600] Loss: 0.1242 Time: 5.39s\n",
      "Epoch [6/50], Iter [600/600] Loss: 0.1197 Time: 6.44s\n",
      "Epoch [7/50], Iter [100/600] Loss: 0.1188 Time: 1.31s\n",
      "Epoch [7/50], Iter [200/600] Loss: 0.1210 Time: 2.39s\n",
      "Epoch [7/50], Iter [300/600] Loss: 0.1208 Time: 3.53s\n",
      "Epoch [7/50], Iter [400/600] Loss: 0.1246 Time: 4.60s\n",
      "Epoch [7/50], Iter [500/600] Loss: 0.1291 Time: 5.64s\n",
      "Epoch [7/50], Iter [600/600] Loss: 0.1153 Time: 6.73s\n",
      "Epoch [8/50], Iter [100/600] Loss: 0.1186 Time: 1.10s\n",
      "Epoch [8/50], Iter [200/600] Loss: 0.1264 Time: 2.42s\n",
      "Epoch [8/50], Iter [300/600] Loss: 0.1236 Time: 3.51s\n",
      "Epoch [8/50], Iter [400/600] Loss: 0.1222 Time: 4.67s\n",
      "Epoch [8/50], Iter [500/600] Loss: 0.1256 Time: 5.90s\n",
      "Epoch [8/50], Iter [600/600] Loss: 0.1261 Time: 7.16s\n",
      "Epoch [9/50], Iter [100/600] Loss: 0.1282 Time: 1.33s\n",
      "Epoch [9/50], Iter [200/600] Loss: 0.1251 Time: 2.50s\n",
      "Epoch [9/50], Iter [300/600] Loss: 0.1290 Time: 3.63s\n",
      "Epoch [9/50], Iter [400/600] Loss: 0.1158 Time: 4.79s\n",
      "Epoch [9/50], Iter [500/600] Loss: 0.1192 Time: 5.96s\n",
      "Epoch [9/50], Iter [600/600] Loss: 0.1194 Time: 7.11s\n",
      "Epoch [10/50], Iter [100/600] Loss: 0.1244 Time: 1.08s\n",
      "Epoch [10/50], Iter [200/600] Loss: 0.1221 Time: 2.25s\n",
      "Epoch [10/50], Iter [300/600] Loss: 0.1255 Time: 3.34s\n",
      "Epoch [10/50], Iter [400/600] Loss: 0.1279 Time: 4.37s\n",
      "Epoch [10/50], Iter [500/600] Loss: 0.1249 Time: 5.49s\n",
      "Epoch [10/50], Iter [600/600] Loss: 0.1192 Time: 6.56s\n",
      "Epoch [11/50], Iter [100/600] Loss: 0.1293 Time: 1.13s\n",
      "Epoch [11/50], Iter [200/600] Loss: 0.1194 Time: 2.19s\n",
      "Epoch [11/50], Iter [300/600] Loss: 0.1245 Time: 3.31s\n",
      "Epoch [11/50], Iter [400/600] Loss: 0.1253 Time: 4.40s\n",
      "Epoch [11/50], Iter [500/600] Loss: 0.1253 Time: 5.43s\n",
      "Epoch [11/50], Iter [600/600] Loss: 0.1291 Time: 6.47s\n",
      "Epoch [12/50], Iter [100/600] Loss: 0.1276 Time: 1.04s\n",
      "Epoch [12/50], Iter [200/600] Loss: 0.1201 Time: 2.09s\n",
      "Epoch [12/50], Iter [300/600] Loss: 0.1236 Time: 3.12s\n",
      "Epoch [12/50], Iter [400/600] Loss: 0.1228 Time: 4.15s\n",
      "Epoch [12/50], Iter [500/600] Loss: 0.1253 Time: 5.19s\n",
      "Epoch [12/50], Iter [600/600] Loss: 0.1248 Time: 6.23s\n",
      "Epoch [13/50], Iter [100/600] Loss: 0.1257 Time: 1.04s\n",
      "Epoch [13/50], Iter [200/600] Loss: 0.1216 Time: 2.10s\n",
      "Epoch [13/50], Iter [300/600] Loss: 0.1223 Time: 3.12s\n",
      "Epoch [13/50], Iter [400/600] Loss: 0.1270 Time: 4.17s\n",
      "Epoch [13/50], Iter [500/600] Loss: 0.1196 Time: 5.19s\n",
      "Epoch [13/50], Iter [600/600] Loss: 0.1177 Time: 6.27s\n",
      "Epoch [14/50], Iter [100/600] Loss: 0.1219 Time: 1.11s\n",
      "Epoch [14/50], Iter [200/600] Loss: 0.1165 Time: 2.16s\n",
      "Epoch [14/50], Iter [300/600] Loss: 0.1217 Time: 3.19s\n",
      "Epoch [14/50], Iter [400/600] Loss: 0.1144 Time: 4.30s\n",
      "Epoch [14/50], Iter [500/600] Loss: 0.1145 Time: 5.35s\n",
      "Epoch [14/50], Iter [600/600] Loss: 0.1291 Time: 6.68s\n",
      "Epoch [15/50], Iter [100/600] Loss: 0.1202 Time: 1.13s\n",
      "Epoch [15/50], Iter [200/600] Loss: 0.1171 Time: 2.35s\n",
      "Epoch [15/50], Iter [300/600] Loss: 0.1186 Time: 3.61s\n",
      "Epoch [15/50], Iter [400/600] Loss: 0.1225 Time: 4.88s\n",
      "Epoch [15/50], Iter [500/600] Loss: 0.1209 Time: 6.11s\n",
      "Epoch [15/50], Iter [600/600] Loss: 0.1220 Time: 7.33s\n",
      "Epoch [16/50], Iter [100/600] Loss: 0.1180 Time: 1.19s\n",
      "Epoch [16/50], Iter [200/600] Loss: 0.1231 Time: 2.23s\n",
      "Epoch [16/50], Iter [300/600] Loss: 0.1129 Time: 3.29s\n",
      "Epoch [16/50], Iter [400/600] Loss: 0.1183 Time: 4.43s\n",
      "Epoch [16/50], Iter [500/600] Loss: 0.1240 Time: 5.49s\n",
      "Epoch [16/50], Iter [600/600] Loss: 0.1215 Time: 6.56s\n",
      "Epoch [17/50], Iter [100/600] Loss: 0.1199 Time: 1.09s\n",
      "Epoch [17/50], Iter [200/600] Loss: 0.1206 Time: 2.11s\n",
      "Epoch [17/50], Iter [300/600] Loss: 0.1199 Time: 3.18s\n",
      "Epoch [17/50], Iter [400/600] Loss: 0.1195 Time: 4.23s\n",
      "Epoch [17/50], Iter [500/600] Loss: 0.1244 Time: 5.28s\n",
      "Epoch [17/50], Iter [600/600] Loss: 0.1253 Time: 6.39s\n",
      "Epoch [18/50], Iter [100/600] Loss: 0.1229 Time: 1.13s\n",
      "Epoch [18/50], Iter [200/600] Loss: 0.1242 Time: 2.20s\n",
      "Epoch [18/50], Iter [300/600] Loss: 0.1247 Time: 3.28s\n",
      "Epoch [18/50], Iter [400/600] Loss: 0.1235 Time: 4.39s\n",
      "Epoch [18/50], Iter [500/600] Loss: 0.1212 Time: 5.52s\n",
      "Epoch [18/50], Iter [600/600] Loss: 0.1225 Time: 6.64s\n",
      "Epoch [19/50], Iter [100/600] Loss: 0.1216 Time: 1.13s\n",
      "Epoch [19/50], Iter [200/600] Loss: 0.1216 Time: 2.22s\n",
      "Epoch [19/50], Iter [300/600] Loss: 0.1195 Time: 3.36s\n",
      "Epoch [19/50], Iter [400/600] Loss: 0.1227 Time: 4.48s\n",
      "Epoch [19/50], Iter [500/600] Loss: 0.1263 Time: 5.63s\n",
      "Epoch [19/50], Iter [600/600] Loss: 0.1226 Time: 6.73s\n",
      "Epoch [20/50], Iter [100/600] Loss: 0.1260 Time: 1.13s\n",
      "Epoch [20/50], Iter [200/600] Loss: 0.1246 Time: 2.23s\n",
      "Epoch [20/50], Iter [300/600] Loss: 0.1193 Time: 3.27s\n",
      "Epoch [20/50], Iter [400/600] Loss: 0.1269 Time: 4.35s\n",
      "Epoch [20/50], Iter [500/600] Loss: 0.1180 Time: 5.45s\n",
      "Epoch [20/50], Iter [600/600] Loss: 0.1252 Time: 6.51s\n",
      "Epoch [21/50], Iter [100/600] Loss: 0.1162 Time: 1.21s\n",
      "Epoch [21/50], Iter [200/600] Loss: 0.1160 Time: 2.37s\n",
      "Epoch [21/50], Iter [300/600] Loss: 0.1201 Time: 3.43s\n",
      "Epoch [21/50], Iter [400/600] Loss: 0.1134 Time: 4.50s\n",
      "Epoch [21/50], Iter [500/600] Loss: 0.1212 Time: 5.54s\n",
      "Epoch [21/50], Iter [600/600] Loss: 0.1285 Time: 6.56s\n",
      "Epoch [22/50], Iter [100/600] Loss: 0.1237 Time: 1.06s\n",
      "Epoch [22/50], Iter [200/600] Loss: 0.1190 Time: 2.09s\n",
      "Epoch [22/50], Iter [300/600] Loss: 0.1157 Time: 3.12s\n",
      "Epoch [22/50], Iter [400/600] Loss: 0.1226 Time: 4.25s\n",
      "Epoch [22/50], Iter [500/600] Loss: 0.1211 Time: 5.46s\n",
      "Epoch [22/50], Iter [600/600] Loss: 0.1188 Time: 6.61s\n",
      "Epoch [23/50], Iter [100/600] Loss: 0.1207 Time: 1.10s\n",
      "Epoch [23/50], Iter [200/600] Loss: 0.1196 Time: 2.16s\n",
      "Epoch [23/50], Iter [300/600] Loss: 0.1206 Time: 3.26s\n",
      "Epoch [23/50], Iter [400/600] Loss: 0.1189 Time: 4.50s\n",
      "Epoch [23/50], Iter [500/600] Loss: 0.1270 Time: 5.58s\n",
      "Epoch [23/50], Iter [600/600] Loss: 0.1189 Time: 6.81s\n",
      "Epoch [24/50], Iter [100/600] Loss: 0.1261 Time: 1.16s\n",
      "Epoch [24/50], Iter [200/600] Loss: 0.1295 Time: 2.23s\n",
      "Epoch [24/50], Iter [300/600] Loss: 0.1292 Time: 3.30s\n",
      "Epoch [24/50], Iter [400/600] Loss: 0.1145 Time: 4.37s\n",
      "Epoch [24/50], Iter [500/600] Loss: 0.1151 Time: 5.53s\n",
      "Epoch [24/50], Iter [600/600] Loss: 0.1158 Time: 6.58s\n",
      "Epoch [25/50], Iter [100/600] Loss: 0.1250 Time: 1.09s\n",
      "Epoch [25/50], Iter [200/600] Loss: 0.1244 Time: 2.19s\n",
      "Epoch [25/50], Iter [300/600] Loss: 0.1252 Time: 3.23s\n",
      "Epoch [25/50], Iter [400/600] Loss: 0.1217 Time: 4.27s\n",
      "Epoch [25/50], Iter [500/600] Loss: 0.1271 Time: 5.29s\n",
      "Epoch [25/50], Iter [600/600] Loss: 0.1274 Time: 6.32s\n",
      "Epoch [26/50], Iter [100/600] Loss: 0.1245 Time: 1.06s\n",
      "Epoch [26/50], Iter [200/600] Loss: 0.1171 Time: 2.11s\n",
      "Epoch [26/50], Iter [300/600] Loss: 0.1246 Time: 3.16s\n",
      "Epoch [26/50], Iter [400/600] Loss: 0.1193 Time: 4.23s\n",
      "Epoch [26/50], Iter [500/600] Loss: 0.1188 Time: 5.27s\n",
      "Epoch [26/50], Iter [600/600] Loss: 0.1234 Time: 6.34s\n",
      "Epoch [27/50], Iter [100/600] Loss: 0.1224 Time: 1.07s\n",
      "Epoch [27/50], Iter [200/600] Loss: 0.1199 Time: 2.12s\n",
      "Epoch [27/50], Iter [300/600] Loss: 0.1175 Time: 3.19s\n",
      "Epoch [27/50], Iter [400/600] Loss: 0.1231 Time: 4.22s\n",
      "Epoch [27/50], Iter [500/600] Loss: 0.1151 Time: 5.29s\n",
      "Epoch [27/50], Iter [600/600] Loss: 0.1171 Time: 6.37s\n",
      "Epoch [28/50], Iter [100/600] Loss: 0.1176 Time: 1.08s\n",
      "Epoch [28/50], Iter [200/600] Loss: 0.1219 Time: 2.15s\n",
      "Epoch [28/50], Iter [300/600] Loss: 0.1177 Time: 3.30s\n",
      "Epoch [28/50], Iter [400/600] Loss: 0.1186 Time: 4.37s\n",
      "Epoch [28/50], Iter [500/600] Loss: 0.1205 Time: 5.46s\n",
      "Epoch [28/50], Iter [600/600] Loss: 0.1200 Time: 6.54s\n",
      "Epoch [29/50], Iter [100/600] Loss: 0.1190 Time: 1.10s\n",
      "Epoch [29/50], Iter [200/600] Loss: 0.1180 Time: 2.20s\n",
      "Epoch [29/50], Iter [300/600] Loss: 0.1184 Time: 3.25s\n",
      "Epoch [29/50], Iter [400/600] Loss: 0.1129 Time: 4.40s\n",
      "Epoch [29/50], Iter [500/600] Loss: 0.1315 Time: 5.50s\n",
      "Epoch [29/50], Iter [600/600] Loss: 0.1216 Time: 6.56s\n",
      "Epoch [30/50], Iter [100/600] Loss: 0.1234 Time: 1.08s\n",
      "Epoch [30/50], Iter [200/600] Loss: 0.1239 Time: 2.36s\n",
      "Epoch [30/50], Iter [300/600] Loss: 0.1239 Time: 3.49s\n",
      "Epoch [30/50], Iter [400/600] Loss: 0.1173 Time: 4.55s\n",
      "Epoch [30/50], Iter [500/600] Loss: 0.1177 Time: 5.61s\n",
      "Epoch [30/50], Iter [600/600] Loss: 0.1229 Time: 6.68s\n",
      "Epoch [31/50], Iter [100/600] Loss: 0.1230 Time: 1.12s\n",
      "Epoch [31/50], Iter [200/600] Loss: 0.1224 Time: 2.18s\n",
      "Epoch [31/50], Iter [300/600] Loss: 0.1138 Time: 3.29s\n",
      "Epoch [31/50], Iter [400/600] Loss: 0.1202 Time: 4.34s\n",
      "Epoch [31/50], Iter [500/600] Loss: 0.1195 Time: 5.38s\n",
      "Epoch [31/50], Iter [600/600] Loss: 0.1135 Time: 6.40s\n",
      "Epoch [32/50], Iter [100/600] Loss: 0.1307 Time: 1.08s\n",
      "Epoch [32/50], Iter [200/600] Loss: 0.1162 Time: 2.11s\n",
      "Epoch [32/50], Iter [300/600] Loss: 0.1230 Time: 3.16s\n",
      "Epoch [32/50], Iter [400/600] Loss: 0.1205 Time: 4.23s\n",
      "Epoch [32/50], Iter [500/600] Loss: 0.1235 Time: 5.44s\n",
      "Epoch [32/50], Iter [600/600] Loss: 0.1243 Time: 6.58s\n",
      "Epoch [33/50], Iter [100/600] Loss: 0.1223 Time: 1.08s\n",
      "Epoch [33/50], Iter [200/600] Loss: 0.1214 Time: 2.12s\n",
      "Epoch [33/50], Iter [300/600] Loss: 0.1201 Time: 3.16s\n",
      "Epoch [33/50], Iter [400/600] Loss: 0.1214 Time: 4.20s\n",
      "Epoch [33/50], Iter [500/600] Loss: 0.1214 Time: 5.27s\n",
      "Epoch [33/50], Iter [600/600] Loss: 0.1211 Time: 6.33s\n",
      "Epoch [34/50], Iter [100/600] Loss: 0.1181 Time: 1.07s\n",
      "Epoch [34/50], Iter [200/600] Loss: 0.1192 Time: 2.11s\n",
      "Epoch [34/50], Iter [300/600] Loss: 0.1195 Time: 3.15s\n",
      "Epoch [34/50], Iter [400/600] Loss: 0.1247 Time: 4.18s\n",
      "Epoch [34/50], Iter [500/600] Loss: 0.1154 Time: 5.22s\n",
      "Epoch [34/50], Iter [600/600] Loss: 0.1197 Time: 6.26s\n",
      "Epoch [35/50], Iter [100/600] Loss: 0.1150 Time: 1.08s\n",
      "Epoch [35/50], Iter [200/600] Loss: 0.1193 Time: 2.14s\n",
      "Epoch [35/50], Iter [300/600] Loss: 0.1246 Time: 3.25s\n",
      "Epoch [35/50], Iter [400/600] Loss: 0.1154 Time: 4.35s\n",
      "Epoch [35/50], Iter [500/600] Loss: 0.1227 Time: 5.40s\n",
      "Epoch [35/50], Iter [600/600] Loss: 0.1128 Time: 6.43s\n",
      "Epoch [36/50], Iter [100/600] Loss: 0.1248 Time: 1.06s\n",
      "Epoch [36/50], Iter [200/600] Loss: 0.1199 Time: 2.14s\n",
      "Epoch [36/50], Iter [300/600] Loss: 0.1221 Time: 3.45s\n",
      "Epoch [36/50], Iter [400/600] Loss: 0.1247 Time: 4.58s\n",
      "Epoch [36/50], Iter [500/600] Loss: 0.1218 Time: 5.69s\n",
      "Epoch [36/50], Iter [600/600] Loss: 0.1144 Time: 6.84s\n",
      "Epoch [37/50], Iter [100/600] Loss: 0.1266 Time: 1.21s\n",
      "Epoch [37/50], Iter [200/600] Loss: 0.1222 Time: 2.36s\n",
      "Epoch [37/50], Iter [300/600] Loss: 0.1231 Time: 3.52s\n",
      "Epoch [37/50], Iter [400/600] Loss: 0.1138 Time: 4.67s\n",
      "Epoch [37/50], Iter [500/600] Loss: 0.1163 Time: 5.82s\n",
      "Epoch [37/50], Iter [600/600] Loss: 0.1141 Time: 7.00s\n",
      "Epoch [38/50], Iter [100/600] Loss: 0.1175 Time: 1.21s\n",
      "Epoch [38/50], Iter [200/600] Loss: 0.1270 Time: 2.33s\n",
      "Epoch [38/50], Iter [300/600] Loss: 0.1224 Time: 3.40s\n",
      "Epoch [38/50], Iter [400/600] Loss: 0.1263 Time: 4.53s\n",
      "Epoch [38/50], Iter [500/600] Loss: 0.1240 Time: 5.60s\n",
      "Epoch [38/50], Iter [600/600] Loss: 0.1273 Time: 6.66s\n",
      "Epoch [39/50], Iter [100/600] Loss: 0.1258 Time: 1.16s\n",
      "Epoch [39/50], Iter [200/600] Loss: 0.1196 Time: 2.32s\n",
      "Epoch [39/50], Iter [300/600] Loss: 0.1190 Time: 3.49s\n",
      "Epoch [39/50], Iter [400/600] Loss: 0.1179 Time: 4.65s\n",
      "Epoch [39/50], Iter [500/600] Loss: 0.1182 Time: 5.75s\n",
      "Epoch [39/50], Iter [600/600] Loss: 0.1264 Time: 6.85s\n",
      "Epoch [40/50], Iter [100/600] Loss: 0.1247 Time: 1.07s\n",
      "Epoch [40/50], Iter [200/600] Loss: 0.1221 Time: 2.14s\n",
      "Epoch [40/50], Iter [300/600] Loss: 0.1217 Time: 3.31s\n",
      "Epoch [40/50], Iter [400/600] Loss: 0.1166 Time: 4.47s\n",
      "Epoch [40/50], Iter [500/600] Loss: 0.1227 Time: 5.63s\n",
      "Epoch [40/50], Iter [600/600] Loss: 0.1144 Time: 6.80s\n",
      "Epoch [41/50], Iter [100/600] Loss: 0.1170 Time: 1.17s\n",
      "Epoch [41/50], Iter [200/600] Loss: 0.1235 Time: 2.33s\n",
      "Epoch [41/50], Iter [300/600] Loss: 0.1212 Time: 3.49s\n",
      "Epoch [41/50], Iter [400/600] Loss: 0.1173 Time: 4.63s\n",
      "Epoch [41/50], Iter [500/600] Loss: 0.1221 Time: 5.66s\n",
      "Epoch [41/50], Iter [600/600] Loss: 0.1243 Time: 6.70s\n",
      "Epoch [42/50], Iter [100/600] Loss: 0.1259 Time: 1.03s\n",
      "Epoch [42/50], Iter [200/600] Loss: 0.1171 Time: 2.07s\n",
      "Epoch [42/50], Iter [300/600] Loss: 0.1178 Time: 3.17s\n",
      "Epoch [42/50], Iter [400/600] Loss: 0.1269 Time: 4.26s\n",
      "Epoch [42/50], Iter [500/600] Loss: 0.1205 Time: 5.38s\n",
      "Epoch [42/50], Iter [600/600] Loss: 0.1274 Time: 6.41s\n",
      "Epoch [43/50], Iter [100/600] Loss: 0.1205 Time: 1.04s\n",
      "Epoch [43/50], Iter [200/600] Loss: 0.1169 Time: 2.08s\n",
      "Epoch [43/50], Iter [300/600] Loss: 0.1105 Time: 3.11s\n",
      "Epoch [43/50], Iter [400/600] Loss: 0.1178 Time: 4.13s\n",
      "Epoch [43/50], Iter [500/600] Loss: 0.1165 Time: 5.15s\n",
      "Epoch [43/50], Iter [600/600] Loss: 0.1253 Time: 6.18s\n",
      "Epoch [44/50], Iter [100/600] Loss: 0.1245 Time: 1.05s\n",
      "Epoch [44/50], Iter [200/600] Loss: 0.1164 Time: 2.07s\n",
      "Epoch [44/50], Iter [300/600] Loss: 0.1154 Time: 3.10s\n",
      "Epoch [44/50], Iter [400/600] Loss: 0.1160 Time: 4.14s\n",
      "Epoch [44/50], Iter [500/600] Loss: 0.1240 Time: 5.16s\n",
      "Epoch [44/50], Iter [600/600] Loss: 0.1215 Time: 6.19s\n",
      "Epoch [45/50], Iter [100/600] Loss: 0.1193 Time: 1.03s\n",
      "Epoch [45/50], Iter [200/600] Loss: 0.1179 Time: 2.06s\n",
      "Epoch [45/50], Iter [300/600] Loss: 0.1174 Time: 3.08s\n",
      "Epoch [45/50], Iter [400/600] Loss: 0.1192 Time: 4.10s\n",
      "Epoch [45/50], Iter [500/600] Loss: 0.1181 Time: 5.12s\n",
      "Epoch [45/50], Iter [600/600] Loss: 0.1193 Time: 6.14s\n",
      "Epoch [46/50], Iter [100/600] Loss: 0.1175 Time: 1.05s\n",
      "Epoch [46/50], Iter [200/600] Loss: 0.1260 Time: 2.09s\n",
      "Epoch [46/50], Iter [300/600] Loss: 0.1211 Time: 3.10s\n",
      "Epoch [46/50], Iter [400/600] Loss: 0.1149 Time: 4.12s\n",
      "Epoch [46/50], Iter [500/600] Loss: 0.1251 Time: 5.14s\n",
      "Epoch [46/50], Iter [600/600] Loss: 0.1177 Time: 6.16s\n",
      "Epoch [47/50], Iter [100/600] Loss: 0.1163 Time: 1.05s\n",
      "Epoch [47/50], Iter [200/600] Loss: 0.1203 Time: 2.06s\n",
      "Epoch [47/50], Iter [300/600] Loss: 0.1117 Time: 3.08s\n",
      "Epoch [47/50], Iter [400/600] Loss: 0.1221 Time: 4.11s\n",
      "Epoch [47/50], Iter [500/600] Loss: 0.1176 Time: 5.12s\n",
      "Epoch [47/50], Iter [600/600] Loss: 0.1177 Time: 6.13s\n",
      "Epoch [48/50], Iter [100/600] Loss: 0.1218 Time: 1.04s\n",
      "Epoch [48/50], Iter [200/600] Loss: 0.1256 Time: 2.06s\n",
      "Epoch [48/50], Iter [300/600] Loss: 0.1243 Time: 3.09s\n",
      "Epoch [48/50], Iter [400/600] Loss: 0.1244 Time: 4.11s\n",
      "Epoch [48/50], Iter [500/600] Loss: 0.1218 Time: 5.13s\n",
      "Epoch [48/50], Iter [600/600] Loss: 0.1128 Time: 6.15s\n",
      "Epoch [49/50], Iter [100/600] Loss: 0.1199 Time: 1.04s\n",
      "Epoch [49/50], Iter [200/600] Loss: 0.1260 Time: 2.08s\n",
      "Epoch [49/50], Iter [300/600] Loss: 0.1173 Time: 3.14s\n",
      "Epoch [49/50], Iter [400/600] Loss: 0.1248 Time: 4.16s\n",
      "Epoch [49/50], Iter [500/600] Loss: 0.1226 Time: 5.18s\n",
      "Epoch [49/50], Iter [600/600] Loss: 0.1179 Time: 6.20s\n",
      "Epoch [50/50], Iter [100/600] Loss: 0.1192 Time: 1.05s\n",
      "Epoch [50/50], Iter [200/600] Loss: 0.1170 Time: 2.08s\n",
      "Epoch [50/50], Iter [300/600] Loss: 0.1214 Time: 3.11s\n"
     ]
    },
    {
     "name": "stdout",
     "output_type": "stream",
     "text": [
      "Epoch [50/50], Iter [400/600] Loss: 0.1249 Time: 4.13s\n",
      "Epoch [50/50], Iter [500/600] Loss: 0.1234 Time: 5.18s\n",
      "Epoch [50/50], Iter [600/600] Loss: 0.1203 Time: 6.19s\n"
     ]
    }
   ],
   "source": [
    "for epoch in range(num_epochs):\n",
    "    t0 = time()\n",
    "    for i, (images, _) in enumerate(data_loader):\n",
    "        \n",
    "        # flatten the image\n",
    "        images = to_var(images.view(images.size(0), -1))\n",
    "        out = ae(images)\n",
    "        loss = criterion(out, images)\n",
    "        \n",
    "        optimizer.zero_grad()\n",
    "        loss.backward()         # calculate gradients\n",
    "        optimizer.step()        # update parameters\n",
    "        \n",
    "        # display training process after every 100 iterations\n",
    "        if (i+1) % 100 == 0:\n",
    "            print ('Epoch [%d/%d], Iter [%d/%d] Loss: %.4f Time: %.2fs' \n",
    "                %(epoch+1, num_epochs, i+1, len(dataset)//batch_size, loss.data[0], time()-t0))\n",
    "            \n",
    "    # save the reconstructed images\n",
    "    reconst_images = ae(fixed_x)\n",
    "    reconst_images = reconst_images.view(reconst_images.size(0), 1, 28, 28)\n",
    "    torchvision.utils.save_image(reconst_images.data.cpu(), './data/reconst_images_%d.png' % (epoch+1))"
   ]
  },
  {
   "cell_type": "code",
   "execution_count": null,
   "metadata": {},
   "outputs": [],
   "source": [
    "for i, (images, _) in enumerate(data_loader):"
   ]
  }
 ],
 "metadata": {
  "kernelspec": {
   "display_name": "Python 3",
   "language": "python",
   "name": "python3"
  },
  "language_info": {
   "codemirror_mode": {
    "name": "ipython",
    "version": 3
   },
   "file_extension": ".py",
   "mimetype": "text/x-python",
   "name": "python",
   "nbconvert_exporter": "python",
   "pygments_lexer": "ipython3",
   "version": "3.6.5"
  }
 },
 "nbformat": 4,
 "nbformat_minor": 2
}
